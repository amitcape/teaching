{
 "cells": [
  {
   "cell_type": "markdown",
   "metadata": {},
   "source": [
    "# Bootstrap and its power!"
   ]
  },
  {
   "cell_type": "markdown",
   "metadata": {},
   "source": [
    "In this short piece of code we shall see how to do bootstrapping using Python and we shall also see what it brings to the table. \n",
    "\n",
    "We take a simple example. We pick up $nn$ samples from a Normal distribution. \n",
    "\n",
    "Let us first check the distribution of the actual sample-space. For this we assume that we can have $N$ data drawn from that distribution. We represent it as data $b$. Let us plot the histogram of this. This is when we have the luxury of getting as many experimental data as possible. "
   ]
  },
  {
   "cell_type": "code",
   "execution_count": 6,
   "metadata": {
    "collapsed": false
   },
   "outputs": [
    {
     "data": {
      "image/png": "[encoded data removed]",
      "text/plain": [
       "<matplotlib.figure.Figure at 0x11cbdd470>"
      ]
     },
     "metadata": {},
     "output_type": "display_data"
    }
   ],
   "source": [
    "import numpy as np\n",
    "import matplotlib as mp\n",
    "import matplotlib.pyplot as plt\n",
    "\n",
    "#AK Mishra (University of Cape Town)\n",
    "#A quick demonstration of how to bootstrap and the power of it.\n",
    "\n",
    "nn = 50 #number of samples in original sample space\n",
    "\n",
    "N = 10000 #number of Bootstrap samples you want to create\n",
    "\n",
    "a = np.random.randn(nn) \n",
    "\n",
    "b = np.random.randn(N)\n",
    "\n",
    "x = np.zeros(N)\n",
    "\n",
    "plt.hist(b, 'auto')\n",
    "plt.show()"
   ]
  },
  {
   "cell_type": "markdown",
   "metadata": {},
   "source": [
    "So you can see that the data's distribution is as expected (Bell-curve with zero-mean and $\\sigma = 1$ (that is why most of the data occure in the range of $-\\sigma$ to $+\\sigma$).\n",
    "\n",
    "Now, lets assume that we can only sample a very few, $nn$, samples. We want to see if we can have an idea about the actual distribution. \n",
    "\n",
    "So we use Bootstrap. From that set of $nn$ samples we create $N$ Bootstrap sets. For each of these Bootstrap sets we find the mean of it. We collect these means (as if they were new data) in vector $x$. \n",
    "\n",
    "Note the use of Numpy's function $choice$.\n",
    "\n",
    "Then we plot the distribution of this new data $x$. Mark how similar this is to the actual distribution, the histogram we ploted using $N$ new samples. Yes it is not really very accurate (you can mark that the mean has shiefted slightly). But then lets not forget that we are doing this gimmick using just $nn$ number of data points. "
   ]
  },
  {
   "cell_type": "code",
   "execution_count": 7,
   "metadata": {
    "collapsed": false
   },
   "outputs": [
    {
     "data": {
      "image/png": "[encoded data removed]",
      "text/plain": [
       "<matplotlib.figure.Figure at 0x11d229e80>"
      ]
     },
     "metadata": {},
     "output_type": "display_data"
    }
   ],
   "source": [
    "for i in range(N):\n",
    "    x[i] = np.sqrt(nn)*np.mean(np.random.choice(a,nn))\n",
    "    \n",
    "plt.hist(x, 'auto')\n",
    "plt.show()"
   ]
  },
  {
   "cell_type": "markdown",
   "metadata": {},
   "source": [
    "Now, why do this sampling and mean and then histogram? Why cant we just sample $N$ samples from $a$ with replacement? Lets do that and plot its histogram. What do you note? "
   ]
  },
  {
   "cell_type": "code",
   "execution_count": 8,
   "metadata": {
    "collapsed": false
   },
   "outputs": [
    {
     "data": {
      "image/png": "[encoded data removed]",
      "text/plain": [
       "<matplotlib.figure.Figure at 0x11d4b9400>"
      ]
     },
     "metadata": {},
     "output_type": "display_data"
    }
   ],
   "source": [
    "y = np.random.choice(a,N)\n",
    "plt.hist(y, 'auto')\n",
    "plt.show()"
   ]
  },
  {
   "cell_type": "code",
   "execution_count": null,
   "metadata": {
    "collapsed": true
   },
   "outputs": [],
   "source": []
  },
  {
   "cell_type": "code",
   "execution_count": null,
   "metadata": {
    "collapsed": true
   },
   "outputs": [],
   "source": []
  }
 ],
 "metadata": {
  "kernelspec": {
   "display_name": "Python 3",
   "language": "python",
   "name": "python3"
  },
  "language_info": {
   "codemirror_mode": {
    "name": "ipython",
    "version": 3
   },
   "file_extension": ".py",
   "mimetype": "text/x-python",
   "name": "python",
   "nbconvert_exporter": "python",
   "pygments_lexer": "ipython3",
   "version": "3.6.0"
  }
 },
 "nbformat": 4,
 "nbformat_minor": 2
}
