{
  "nbformat": 4,
  "nbformat_minor": 0,
  "metadata": {
    "colab": {
      "name": "Copy of hand_waving_intro.ipynb",
      "version": "0.3.2",
      "provenance": [],
      "private_outputs": true,
      "collapsed_sections": [],
      "toc_visible": true
    },
    "kernelspec": {
      "name": "python3",
      "display_name": "Python 3"
    }
  },
  "cells": [
    {
      "metadata": {
        "colab_type": "text",
        "id": "HnKx50tv5aZD"
      },
      "cell_type": "markdown",
      "source": [
        "##### Copyright 2018 The TensorFlow Authors."
      ]
    },
    {
      "metadata": {
        "cellView": "form",
        "colab_type": "code",
        "id": "IwtS_OXU5cWG",
        "colab": {}
      },
      "cell_type": "code",
      "source": [
        "#@title Licensed under the Apache License, Version 2.0 (the \"License\");\n",
        "# you may not use this file except in compliance with the License.\n",
        "# You may obtain a copy of the License at\n",
        "#\n",
        "# https://www.apache.org/licenses/LICENSE-2.0\n",
        "#\n",
        "# Unless required by applicable law or agreed to in writing, software\n",
        "# distributed under the License is distributed on an \"AS IS\" BASIS,\n",
        "# WITHOUT WARRANTIES OR CONDITIONS OF ANY KIND, either express or implied.\n",
        "# See the License for the specific language governing permissions and\n",
        "# limitations under the License."
      ],
      "execution_count": 0,
      "outputs": []
    },
    {
      "metadata": {
        "colab_type": "text",
        "id": "YHI3vyhv5p85"
      },
      "cell_type": "markdown",
      "source": [
        "# A hand-waving introduction to ANN\n",
        "\n",
        "PS: Much of this has been inspired by the recent Udacity course: https://classroom.udacity.com/courses/ud187 . Some of the descriptions have also been copied from one of their notebooks."
      ]
    },
    {
      "metadata": {
        "id": "Qs8uugN_rWTG",
        "colab_type": "text"
      },
      "cell_type": "markdown",
      "source": [
        "#Diode Equation\n",
        "\n",
        "Lets think of the way  William Shockley might have found the diode equation. All he had with him were some measurements of $I_D$ given values for $V_D$. \n",
        "\n",
        "We already know that the equation that he found the best is $I_D = I_O (e^{V_D/V_T} - 1)$. \n",
        "\n",
        "Lets assume that we have the following readings of $V_D$ = (0, 0.2, 0.4, 0.6, 0.7) .\n",
        "\n",
        "Lets cheat and find the values for $I_D$. Assume that we have been given these two arrays of number and are asked to act Shockly and find a model which can churn out values of $I_D$ given any value of $V_D$."
      ]
    },
    {
      "metadata": {
        "id": "h0UGx0R0tue6",
        "colab_type": "code",
        "colab": {}
      },
      "cell_type": "code",
      "source": [
        "import matplotlib as mp\n",
        "import numpy as np\n",
        "\n",
        "I_o = 3.2e-12 \n",
        "v_d = np.array([0,0.1, 0.2,0.22, 0.3, 0.35, 0.4,0.45, 0.5, 0.55, 0.6, 0.65, 0.7, 0.75, 0.8],  dtype=float)\n",
        "i_d = I_o*(np.exp(v_d/0.025) - 1) \n",
        "print(i_d)\n"
      ],
      "execution_count": 0,
      "outputs": []
    },
    {
      "metadata": {
        "colab_type": "text",
        "id": "_wJ2E7jV5tN5"
      },
      "cell_type": "markdown",
      "source": [
        "<table class=\"tfo-notebook-buttons\" align=\"left\">\n",
        "  <td>\n",
        "    <a target=\"_blank\" href=\"https://colab.research.google.com/github/tensorflow/examples/courses/udacity_intro_to_tensorflow_for_deep_learning/l02c01_celsius_to_fahrenheit.ipynb\"><img src=\"https://www.tensorflow.org/images/colab_logo_32px.png\" />Run in Google Colab</a>\n",
        "  </td>\n",
        "  <td>\n",
        "    <a target=\"_blank\" href=\"https://github.com/tensorflow/examples/courses/udacity_intro_to_tensorflow_for_deep_learning/l02c01_celsius_to_fahrenheit.ipynb\"><img src=\"https://www.tensorflow.org/images/GitHub-Mark-32px.png\" />View source on GitHub</a>\n",
        "  </td>\n",
        "</table>"
      ]
    },
    {
      "metadata": {
        "id": "5IyiHnqq3LOS",
        "colab_type": "text"
      },
      "cell_type": "markdown",
      "source": [
        ""
      ]
    },
    {
      "metadata": {
        "colab_type": "text",
        "id": "F8YVA_634OFk"
      },
      "cell_type": "markdown",
      "source": [
        "The first step in any machine learning activitiy is to check how does the data \"look\" like! Dont forget that a lot of our intuitive gut feeling is based around vision. (We will talk more about this later.) This exactly why methods like principal component analysis are extremely powerful. \n",
        "\n",
        "So lets plot it. "
      ]
    },
    {
      "metadata": {
        "id": "WLlbcecOwAG9",
        "colab_type": "code",
        "colab": {}
      },
      "cell_type": "code",
      "source": [
        "mp.pyplot.plot(v_d,i_d)"
      ],
      "execution_count": 0,
      "outputs": []
    },
    {
      "metadata": {
        "id": "NUjL1DlqwEDv",
        "colab_type": "text"
      },
      "cell_type": "markdown",
      "source": [
        "So from the plot what do you think the equation might be? Maybe its quadratic? Maybe its exponential. So if its exponential then it will look like $I_D = x (e^{yV_D} + p)$. So to get this trick to work we need to find these three **parameters**  and thats why such methods are called .....guess.....** parametric methods** (we will discuss more about this later!)\n",
        "\n",
        "How would you find these parameters? What are the possible issues and benefits of this method?"
      ]
    },
    {
      "metadata": {
        "colab_type": "text",
        "id": "fA93WUy1zzWf"
      },
      "cell_type": "markdown",
      "source": [
        "Now lets jump to the other type of trick where we do not impose any \"model\" on the data. Rather, we expect the data to lead our way! \n",
        "\n",
        "**In God we trust, rest others bring data!**...late Edwards Deming (father of lean startup)\n",
        "\n",
        "Lets build a Neural Network to get model these two arrays of numbers.\n",
        "\n",
        "## Import dependencies\n",
        "\n",
        "First, import TensorFlow. Here, we're calling it `tf` for ease of use. We also tell it to only display errors.\n",
        "\n"
      ]
    },
    {
      "metadata": {
        "colab_type": "code",
        "id": "X9uIpOS2zx7k",
        "colab": {}
      },
      "cell_type": "code",
      "source": [
        "from __future__ import absolute_import, division, print_function\n",
        "import tensorflow as tf\n",
        "tf.logging.set_verbosity(tf.logging.ERROR)\n",
        "\n",
        "import numpy as np"
      ],
      "execution_count": 0,
      "outputs": []
    },
    {
      "metadata": {
        "colab_type": "text",
        "id": "AC3EQFi20buB"
      },
      "cell_type": "markdown",
      "source": [
        "## Set up training data\n",
        "\n",
        "As we saw before, supervised Machine Learning is all about figuring out an algorithm given a set of inputs and outputs. Since the task in this Codelab is to create a model that can give the temperature in Fahrenhet when given the degrees in Celsius, we create two lists `celsius_q` and `fahrenheit_a` that we can use to train our model."
      ]
    },
    {
      "metadata": {
        "colab_type": "text",
        "id": "wwJGmDrQ0EoB"
      },
      "cell_type": "markdown",
      "source": [
        "### Some Machine Learning terminology\n",
        "\n",
        " - **Feature** — The input(s) to our model. In this case, a single value — the diode voltage in V.\n",
        "\n",
        " - **Labels** — The output our model predicts. In this case, a single value — the diode current in A.\n",
        " \n",
        " - **Example** — A pair of inputs/outputs used during training. In our case a pair of values from `V_D` and `I_D` at a specific index. \n"
      ]
    },
    {
      "metadata": {
        "colab_type": "text",
        "id": "VM7_9Klvq7MO"
      },
      "cell_type": "markdown",
      "source": [
        "## Create the model\n",
        "\n",
        "Next create the model. We will use simplest possible model we can, a Dense network. Since the problem is straightforward, this network will require only a single layer, with a single neuron. \n",
        "\n",
        "### Build a layer\n",
        "\n",
        "We'll call the layer `l0` and create it by instantiating `tf.keras.layers.Dense` with the following configuration:\n",
        "\n",
        "*   `input_shape=[1]` — This specifies that the input to this layer is a single value. That is, the shape is a one-dimensional array with one member. Since this is the first (and only) layer, that input shape is the input shape of the entire model. The single value is a floating point number, representing diode voltage.\n",
        "\n",
        "*   `units=1` — This specifies the number of neurons in the layer. The number of neurons defines how many internal variables the layer has to try to learn how to solve the problem. Since this is the final layer, it is also the size of the model's output — a single float value representing diode current. (In a multi-layered network, the size and shape of the later would need to match the `input_shape` of the next layer.)\n"
      ]
    },
    {
      "metadata": {
        "colab_type": "code",
        "id": "pRllo2HLfXiu",
        "colab": {}
      },
      "cell_type": "code",
      "source": [
        "l0 = tf.keras.layers.Dense(units=1, input_shape=[1])  \n",
        "#l0 = tf.keras.layers.Dense(units=1, activation='elu', input_shape=[1])  "
      ],
      "execution_count": 0,
      "outputs": []
    },
    {
      "metadata": {
        "colab_type": "text",
        "id": "_F00_J9duLBD"
      },
      "cell_type": "markdown",
      "source": [
        "### Assemble layers into the model\n",
        "\n",
        "Once layers are defined, they need to be assembled into a model. The Sequential model definition takes a list of layers as argument, specifying the calculation order from the input to the output.\n",
        "\n",
        "This model has just a single layer, l0."
      ]
    },
    {
      "metadata": {
        "colab_type": "code",
        "id": "cSp-GpLSuMRq",
        "colab": {}
      },
      "cell_type": "code",
      "source": [
        "model = tf.keras.Sequential([l0])"
      ],
      "execution_count": 0,
      "outputs": []
    },
    {
      "metadata": {
        "colab_type": "text",
        "id": "t7pfHfWxust0"
      },
      "cell_type": "markdown",
      "source": [
        "**Note**\n",
        "\n",
        "You will often see the layers defined inside the model definition, rather than beforehand:\n",
        "\n",
        "```python\n",
        "model = tf.keras.Sequential([\n",
        "  tf.keras.layers.Dense(units=1, input_shape=[1])\n",
        "])\n",
        "```"
      ]
    },
    {
      "metadata": {
        "colab_type": "text",
        "id": "kiZG7uhm8qCF"
      },
      "cell_type": "markdown",
      "source": [
        "## Compile the model, with loss and optimizer functions\n",
        "\n",
        "Before training, the model has to be compiled. When compiled for training, the model is given:\n",
        "\n",
        "- **Loss function** — A way of measuring how far off predictions are from the desired outcome. (The measured difference is called the \"loss\".\n",
        "\n",
        "- **Optimizer function** — A way of adjusting internal values in order to reduce the loss.\n"
      ]
    },
    {
      "metadata": {
        "colab_type": "code",
        "id": "m8YQN1H41L-Y",
        "colab": {}
      },
      "cell_type": "code",
      "source": [
        "model.compile(loss='mean_squared_error',\n",
        "              optimizer=tf.keras.optimizers.Adam(0.1))"
      ],
      "execution_count": 0,
      "outputs": []
    },
    {
      "metadata": {
        "colab_type": "text",
        "id": "17M3Pqv4P52R"
      },
      "cell_type": "markdown",
      "source": [
        "These are used during training (`model.fit()`, below) to first calculate the loss at each point, and then improve it. In fact, the act of calculating the current loss of a model and then improving it is precisely what training is.\n",
        "\n",
        "During training, the optimizer function is used to calculate adjustments to the model's internal variables. The goal is to adjust the internal variables until the model (which is really a math function) mirrors the actual equation for converting Celsius to Fahrenheit.\n",
        "\n",
        "TensorFlow uses numerical analysis to perform this tuning, and all this complexity is hidden from you so we will not go into the details here. What is useful to know about these parameters are:\n",
        "\n",
        "The loss function ([mean squared error](https://en.wikipedia.org/wiki/Mean_squared_error)) and the optimizer ([Adam](https://machinelearningmastery.com/adam-optimization-algorithm-for-deep-learning/)) used here are standard for simple models like this one, but many others are available. It is not important to know how these specific functions work at this point.\n",
        "\n",
        "One part of the Optimizer you may need to think about when building your own models is the learnign rate (`0.1` in the code above). This is the step size taken when adjusting values in the model. If the value is too small, it will take too many iterations to train the model. Too large, and accuracy goes down. Finding a good value often involves some trial and error, but the range is usually within 0.001 (default), and 0.1"
      ]
    },
    {
      "metadata": {
        "colab_type": "text",
        "id": "c-Jk4dG91dvD"
      },
      "cell_type": "markdown",
      "source": [
        "## Train the model\n",
        "\n",
        "Train the model by calling the `fit` method. \n",
        "\n",
        "During training, the model takes in v_d values, performs a calculation using the current internal variables (called \"weights\") and outputs values which are meant to be the i_d values. Since the weights are intially set randomly, the output will not be close to the correct value. The difference between the actual output and the desired output is calculated using the loss function, and the optimizer function directs how the weights should be adjusted. \n",
        "\n",
        "This cycle of calculate, compare, adjust is controlled by the `fit` method. The first argument is the inputs, the second argument is the desired outputs. The `epochs` argument specifies how many times this cycle should be run, and the `verbose` argument controls how much output the method produces."
      ]
    },
    {
      "metadata": {
        "colab_type": "code",
        "id": "lpRrl7WK10Pq",
        "colab": {}
      },
      "cell_type": "code",
      "source": [
        "history = model.fit(v_d, i_d, epochs=500, verbose=False)\n",
        "print(\"Finished training the model\")"
      ],
      "execution_count": 0,
      "outputs": []
    },
    {
      "metadata": {
        "colab_type": "text",
        "id": "GFcIU2-SdCrI"
      },
      "cell_type": "markdown",
      "source": [
        "In later videos, we will go into more details on what actually happens here and how a Dense layer actually works internally."
      ]
    },
    {
      "metadata": {
        "colab_type": "text",
        "id": "0-QsNCLD4MJZ"
      },
      "cell_type": "markdown",
      "source": [
        "## Display training statistics\n",
        "\n",
        "The `fit` method returns a history object. We can use this object to plot how the loss of our model goes down after each training epoch. \n",
        "\n",
        "We'll use [Matplotlib](https://matplotlib.org/) to visualize this (you could use another tool). As you can see, our model improves very quickly at first, and then has a steady, slow improvement until it is very near \"perfect\" towards the end.\n",
        "\n"
      ]
    },
    {
      "metadata": {
        "colab_type": "code",
        "id": "IeK6BzfbdO6_",
        "colab": {}
      },
      "cell_type": "code",
      "source": [
        "import matplotlib.pyplot as plt\n",
        "plt.xlabel('Epoch Number')\n",
        "plt.ylabel(\"Loss Magnitude\")\n",
        "plt.plot(history.history['loss'])"
      ],
      "execution_count": 0,
      "outputs": []
    },
    {
      "metadata": {
        "colab_type": "text",
        "id": "LtQGDMob5LOD"
      },
      "cell_type": "markdown",
      "source": [
        "## Use the model to predict values\n",
        "\n",
        "Now you have a model that has been trained to learn the relationshop between `v_d` and `i_d`. You can use the predict method to have it calculate the diode current. But unfortunately the error it converges to seems pretty bad. Lets try to use it anyway. \n",
        "\n",
        "So, for example, if the diode voltage is 0.72 V then we expect a diode current of 10.3A. Lets see what we get."
      ]
    },
    {
      "metadata": {
        "colab_type": "code",
        "id": "oxNzL4lS2Gui",
        "colab": {}
      },
      "cell_type": "code",
      "source": [
        "print(model.predict([0.72]))"
      ],
      "execution_count": 0,
      "outputs": []
    },
    {
      "metadata": {
        "colab_type": "text",
        "id": "jApk6tZ1fBg1"
      },
      "cell_type": "markdown",
      "source": [
        "##Post-mortem \n",
        "\n",
        "Is this good? Hmmmmmmmm. Lets run another time.....But the error seems to be pretty high. What can we do now?\n",
        "\n",
        "Mark that the model we used is linear. And we are trying to learn something which is exponential! Can we not add some nonlinearlity into the model? Try by adding a nonlinear activation function in the model and see what happens. \n",
        "\n",
        "The error seems to be going down. Should we increase the number of epochs? Lets try that as well. \n",
        "\n",
        "\n",
        "\n",
        "\n"
      ]
    },
    {
      "metadata": {
        "colab_type": "text",
        "id": "zRrOky5gm20Z"
      },
      "cell_type": "markdown",
      "source": [
        "## Looking at the layer weights\n",
        "\n",
        "Finally, let's print the internal variables of the Dense layer. "
      ]
    },
    {
      "metadata": {
        "colab_type": "code",
        "id": "kmIkVdkbnZJI",
        "colab": {}
      },
      "cell_type": "code",
      "source": [
        "print(\"These are the layer variables: {}\".format(l0.get_weights()))"
      ],
      "execution_count": 0,
      "outputs": []
    },
    {
      "metadata": {
        "colab_type": "text",
        "id": "RSplSnMvnWC-"
      },
      "cell_type": "markdown",
      "source": [
        "### Some more experiments\n",
        "\n",
        "Something is not going well. What can we do? Can we add more layers? \n",
        "\n",
        "Universal approximation theorem. \n",
        "A single hidden layer can approximate any function!"
      ]
    },
    {
      "metadata": {
        "colab_type": "code",
        "id": "Y2zTA-rDS5Xk",
        "colab": {}
      },
      "cell_type": "code",
      "source": [
        "l0 = tf.keras.layers.Dense(units=10, activation='relu',input_shape=[1])  \n",
        "l1 = tf.keras.layers.Dense(units=1)  \n",
        "model = tf.keras.Sequential([l0, l1])\n",
        "model.compile(loss='mean_squared_error', optimizer=tf.keras.optimizers.Adam(0.1))\n",
        "history = model.fit(v_d, i_d, epochs=800, verbose=False)\n",
        "print(\"Finished training the model\")\n",
        "print(model.predict([0.72]))\n",
        "#print(\"Model predicts that 100 degrees Celsius is: {} degrees Fahrenheit\".format(model.predict([0.72])))\n",
        "#print(\"These are the l0 variables: {}\".format(l0.get_weights()))\n",
        "#print(\"These are the l1 variables: {}\".format(l1.get_weights()))\n",
        "#print(\"These are the l2 variables: {}\".format(l2.get_weights()))\n",
        "plt.xlabel('Epoch Number')\n",
        "plt.ylabel(\"Loss Magnitude\")\n",
        "plt.plot(history.history['loss'])"
      ],
      "execution_count": 0,
      "outputs": []
    },
    {
      "metadata": {
        "colab_type": "text",
        "id": "xrpFFlgYhCty"
      },
      "cell_type": "markdown",
      "source": [
        "##Play-around\n",
        "\n",
        "We still did not get anything decent. But the theory says it should work. Try increasing the number of nodes in the hidden layer and see what happens. \n",
        "\n",
        "So which is better? Parametric or data-centered ANN approach? \n",
        "\n",
        "What else did you learn from this?"
      ]
    }
  ]
}