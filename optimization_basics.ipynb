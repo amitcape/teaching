{
 "cells": [
  {
   "cell_type": "markdown",
   "metadata": {},
   "source": [
    "In this page we shall demosntrate how to use Scipy's optimization package.\n",
    "\n",
    "All the codes are from scipy's help files.\n",
    "\n",
    "Lets optimize  $f(x) = \\exp{(x−0.7)^2}$"
   ]
  },
  {
   "cell_type": "code",
   "execution_count": 1,
   "metadata": {
    "collapsed": false
   },
   "outputs": [
    {
     "data": {
      "text/plain": [
       "-1.0367423364243677e-08"
      ]
     },
     "execution_count": 1,
     "metadata": {},
     "output_type": "execute_result"
    }
   ],
   "source": [
    "from scipy import optimize\n",
    "import numpy as np\n",
    "\n",
    "def f(x):\n",
    "    return np.exp((x - 0.7)**2)\n",
    "result = optimize.minimize_scalar(f)\n",
    "result.success # check if solver was successful\n",
    "\n",
    "x_min = result.x\n",
    "x_min \n",
    "\n",
    "x_min - 0.7 "
   ]
  },
  {
   "cell_type": "markdown",
   "metadata": {},
   "source": [
    "Now we optimize the infamous Rosenbrock function.\n",
    "\n",
    "$f(x,y) = 0.5∗(1−x)^2 + (y−x^2)^2$"
   ]
  },
  {
   "cell_type": "code",
   "execution_count": 2,
   "metadata": {
    "collapsed": false
   },
   "outputs": [
    {
     "data": {
      "text/plain": [
       "     fun: 6.061480952893705e-11\n",
       "     jac: array([ -1.36249187e-06,  -4.53529277e-06])\n",
       " message: 'Optimization terminated successfully.'\n",
       "    nfev: 68\n",
       "     nit: 8\n",
       "    njev: 17\n",
       "  status: 0\n",
       " success: True\n",
       "       x: array([ 0.99998947,  0.99997667])"
      ]
     },
     "execution_count": 2,
     "metadata": {},
     "output_type": "execute_result"
    }
   ],
   "source": [
    "def f(x):   # The rosenbrock function\n",
    "    return .5*(1 - x[0])**2 + (x[1] - x[0]**2)**2\n",
    "optimize.minimize(f, [20,-10], method=\"CG\") "
   ]
  },
  {
   "cell_type": "code",
   "execution_count": 3,
   "metadata": {
    "collapsed": false
   },
   "outputs": [
    {
     "data": {
      "text/plain": [
       "     fun: 2.957865890641887e-14\n",
       "     jac: array([  7.18259502e-07,  -2.99030306e-07])\n",
       " message: 'Optimization terminated successfully.'\n",
       "    nfev: 16\n",
       "     nit: 8\n",
       "    njev: 16\n",
       "  status: 0\n",
       " success: True\n",
       "       x: array([ 1.00000012,  1.00000009])"
      ]
     },
     "execution_count": 3,
     "metadata": {},
     "output_type": "execute_result"
    }
   ],
   "source": [
    "def jacobian(x):\n",
    "    return np.array((-2*.5*(1 - x[0]) - 4*x[0]*(x[1] - x[0]**2), 2*(x[1] - x[0]**2)))\n",
    "optimize.minimize(f, [2, 1], method=\"CG\", jac=jacobian) "
   ]
  },
  {
   "cell_type": "code",
   "execution_count": 4,
   "metadata": {
    "collapsed": false
   },
   "outputs": [
    {
     "data": {
      "text/plain": [
       "      fun: 4.9931043527025166e-15\n",
       " hess_inv: array([[ 0.99986608,  2.00004498],\n",
       "       [ 2.00004498,  4.49857606]])\n",
       "      jac: array([  6.70890321e-08,  -3.22218063e-08])\n",
       "  message: 'Optimization terminated successfully.'\n",
       "     nfev: 40\n",
       "      nit: 8\n",
       "     njev: 10\n",
       "   status: 0\n",
       "  success: True\n",
       "        x: array([ 0.99999991,  0.99999979])"
      ]
     },
     "execution_count": 4,
     "metadata": {},
     "output_type": "execute_result"
    }
   ],
   "source": [
    "def f(x):   # The rosenbrock function\n",
    "    return .5*(1 - x[0])**2 + (x[1] - x[0]**2)**2\n",
    "optimize.minimize(f, [2, -1], method=\"BFGS\") "
   ]
  },
  {
   "cell_type": "markdown",
   "metadata": {},
   "source": [
    "Constrained Optimization. In this you need to give the constraints as well.\n",
    "\n",
    "For example:  $f(x) = 2xy + 2x − x^2 − 2y^2$ .\n",
    "\n",
    "Constraints are as follows:\n",
    "\n",
    "$x^3 − y = 0$\n",
    "\n",
    "$y − 1 \\geq 0$"
   ]
  },
  {
   "cell_type": "code",
   "execution_count": 5,
   "metadata": {
    "collapsed": false
   },
   "outputs": [
    {
     "name": "stdout",
     "output_type": "stream",
     "text": [
      "Optimization terminated successfully.    (Exit mode 0)\n",
      "            Current function value: -2.0\n",
      "            Iterations: 4\n",
      "            Function evaluations: 17\n",
      "            Gradient evaluations: 4\n",
      "[ 1.99999999  1.        ]\n"
     ]
    }
   ],
   "source": [
    "def func(x, sign=1.0):\n",
    "    \"\"\" Objective function \"\"\"\n",
    "    return sign*(2*x[0]*x[1] + 2*x[0] - x[0]**2 - 2*x[1]**2)\n",
    "    \n",
    "cons = ({'type': 'eq',\n",
    "          'fun' : lambda x: np.array([x[0]**3 - x[1]])},\n",
    "        {'type': 'ineq',\n",
    "          'fun' : lambda x: np.array([x[1] - 1])})\n",
    "\n",
    "res = optimize.minimize(func, [-1.0,1.0], args=(-1.0,),\n",
    "                method='SLSQP', options={'disp': True})\n",
    "print(res.x)"
   ]
  },
  {
   "cell_type": "code",
   "execution_count": 6,
   "metadata": {
    "collapsed": false
   },
   "outputs": [
    {
     "name": "stdout",
     "output_type": "stream",
     "text": [
      "Optimization terminated successfully.    (Exit mode 0)\n",
      "            Current function value: -1.0000001831248646\n",
      "            Iterations: 9\n",
      "            Function evaluations: 41\n",
      "            Gradient evaluations: 9\n",
      "[ 1.00000009  1.        ]\n"
     ]
    }
   ],
   "source": [
    "res = optimize.minimize(func, [-1.0,1.0], args=(-1.0,), \n",
    "                constraints=cons, method='SLSQP', options={'disp': True})\n",
    "\n",
    "print(res.x)"
   ]
  },
  {
   "cell_type": "code",
   "execution_count": null,
   "metadata": {
    "collapsed": true
   },
   "outputs": [],
   "source": []
  }
 ],
 "metadata": {
  "kernelspec": {
   "display_name": "Python 3",
   "language": "python",
   "name": "python3"
  },
  "language_info": {
   "codemirror_mode": {
    "name": "ipython",
    "version": 3
   },
   "file_extension": ".py",
   "mimetype": "text/x-python",
   "name": "python",
   "nbconvert_exporter": "python",
   "pygments_lexer": "ipython3",
   "version": "3.6.0"
  }
 },
 "nbformat": 4,
 "nbformat_minor": 2
}
